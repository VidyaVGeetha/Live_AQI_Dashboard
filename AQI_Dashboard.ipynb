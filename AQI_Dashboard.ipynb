{
  "nbformat": 4,
  "nbformat_minor": 0,
  "metadata": {
    "colab": {
      "provenance": []
    },
    "kernelspec": {
      "name": "python3",
      "display_name": "Python 3"
    },
    "language_info": {
      "name": "python"
    }
  },
  "cells": [
    {
      "cell_type": "code",
      "source": [
        "!pip install streamlit pyngrok --quiet"
      ],
      "metadata": {
        "id": "4VTicoPpDFi0"
      },
      "execution_count": 19,
      "outputs": []
    },
    {
      "cell_type": "code",
      "source": [
        "!ngrok config add-authtoken WE2SPUJNXCPUEAVTICCJHKXQONGVHJ3Q\n"
      ],
      "metadata": {
        "colab": {
          "base_uri": "https://localhost:8080/"
        },
        "id": "kBfzjM9cD2ys",
        "outputId": "ac5434b8-e913-4d41-9868-8c319cfaf9ad"
      },
      "execution_count": 20,
      "outputs": [
        {
          "output_type": "stream",
          "name": "stdout",
          "text": [
            "Authtoken saved to configuration file: /root/.config/ngrok/ngrok.yml\n"
          ]
        }
      ]
    },
    {
      "cell_type": "code",
      "source": [
        "!ngrok config add-authtoken 2vwIQrwjPio3L9KC2DeYe8vtlW4_5tzPNHZ6iG3BfrhojeWbK\n"
      ],
      "metadata": {
        "colab": {
          "base_uri": "https://localhost:8080/"
        },
        "id": "ZwY0UnOGEmqc",
        "outputId": "1ba8734b-583a-46b6-c96b-cdf396e4ffe7"
      },
      "execution_count": 28,
      "outputs": [
        {
          "output_type": "stream",
          "name": "stdout",
          "text": [
            "Authtoken saved to configuration file: /root/.config/ngrok/ngrok.yml\n"
          ]
        }
      ]
    },
    {
      "cell_type": "code",
      "execution_count": 31,
      "metadata": {
        "colab": {
          "base_uri": "https://localhost:8080/"
        },
        "id": "rpEonpU3DAB1",
        "outputId": "052d46f0-0e22-4186-faf5-87a6786ab694"
      },
      "outputs": [
        {
          "output_type": "stream",
          "name": "stdout",
          "text": [
            "Overwriting app.py\n"
          ]
        }
      ],
      "source": [
        "%%writefile app.py\n",
        "import streamlit as st\n",
        "import requests\n",
        "import pandas as pd\n",
        "\n",
        "st.set_page_config(page_title=\"Live AQI Dashboard - WAQI\", layout=\"centered\")\n",
        "st.title(\"🌍 Live AQI Dashboard using WAQI API\")\n",
        "\n",
        "city = st.text_input(\"Enter a City or Postcode\", \"EH49 6HR\")\n",
        "\n",
        "WAQI_TOKEN = \"09591e540fc00070ffdf88e92ad50713a635a11a\"\n",
        "\n",
        "def fetch_waqi_data(city_name):\n",
        "    url = f\"https://api.waqi.info/feed/{city_name}/?token={WAQI_TOKEN}\"\n",
        "    response = requests.get(url)\n",
        "    return response.json() if response.status_code == 200 else None\n",
        "\n",
        "def categorize_aqi(aqi):\n",
        "    if aqi <= 50:\n",
        "        return \"🟢 Good\"\n",
        "    elif aqi <= 100:\n",
        "        return \"🟡 Moderate\"\n",
        "    elif aqi <= 150:\n",
        "        return \"🟠 Unhealthy for Sensitive Groups\"\n",
        "    elif aqi <= 200:\n",
        "        return \"🔴 Unhealthy\"\n",
        "    elif aqi <= 300:\n",
        "        return \"🟣 Very Unhealthy\"\n",
        "    else:\n",
        "        return \"⚫ Hazardous\"\n",
        "\n",
        "data = fetch_waqi_data(city)\n",
        "\n",
        "if data and data[\"status\"] == \"ok\":\n",
        "    aqi = data[\"data\"][\"aqi\"]\n",
        "    dom_pollutant = data[\"data\"].get(\"dominentpol\", \"N/A\")\n",
        "    iaqi = data[\"data\"][\"iaqi\"]\n",
        "    city_name = data[\"data\"][\"city\"][\"name\"]\n",
        "    time = data[\"data\"][\"time\"][\"s\"]\n",
        "\n",
        "    st.subheader(f\"📍 Location: {city_name}\")\n",
        "    st.write(f\"🕒 Time: {time}\")\n",
        "    st.metric(label=\"AQI\", value=aqi, delta=categorize_aqi(aqi))\n",
        "    st.caption(f\"Dominant Pollutant: **{dom_pollutant.upper()}**\")\n",
        "\n",
        "    pollutants = {}\n",
        "    for key in ['pm25', 'pm10', 'co', 'no2', 'so2', 'o3', 't', 'h']:\n",
        "        if key in iaqi:\n",
        "            pollutants[key.upper()] = iaqi[key]['v']\n",
        "\n",
        "    df_pollutants = pd.DataFrame(pollutants.items(), columns=[\"Pollutant\", \"Value\"])\n",
        "    st.write(\"### 🌫️ Pollutant Levels\")\n",
        "    st.table(df_pollutants)\n",
        "else:\n",
        "    st.error(\"❌ Failed to fetch data from WAQI API. Try a valid city or postcode.\")\n"
      ]
    },
    {
      "cell_type": "code",
      "source": [
        "from pyngrok import ngrok\n",
        "import threading\n",
        "import time\n",
        "import os\n",
        "\n",
        "# Kill any existing tunnels\n",
        "ngrok.kill()\n",
        "\n",
        "# Start Streamlit in background\n",
        "def run():\n",
        "    os.system(\"streamlit run app.py\")\n",
        "\n",
        "thread = threading.Thread(target=run)\n",
        "thread.start()\n",
        "time.sleep(5)\n",
        "\n",
        "# ✅ Fixed for ngrok v3 (use full URL)\n",
        "public_url = ngrok.connect(\"http://localhost:8501\")\n",
        "print(f\"🚀 Your Streamlit AQI dashboard is live at: {public_url}\")\n"
      ],
      "metadata": {
        "colab": {
          "base_uri": "https://localhost:8080/"
        },
        "id": "7vvoGLTJEHiN",
        "outputId": "fde3baec-a1cf-4ca9-f8aa-d028690b0c9d"
      },
      "execution_count": 32,
      "outputs": [
        {
          "output_type": "stream",
          "name": "stdout",
          "text": [
            "🚀 Your Streamlit AQI dashboard is live at: NgrokTunnel: \"https://2346-34-118-240-209.ngrok-free.app\" -> \"http://localhost:8501\"\n"
          ]
        }
      ]
    }
  ]
}